{
 "cells": [
  {
   "cell_type": "code",
   "execution_count": 1,
   "metadata": {},
   "outputs": [],
   "source": [
    "import cv2\n",
    "import numpy as np\n",
    "import matplotlib.pyplot as plt\n",
    "from random import randrange as rr"
   ]
  },
  {
   "cell_type": "code",
   "execution_count": 2,
   "metadata": {},
   "outputs": [],
   "source": [
    "had = 20\n",
    "for i in range(1,21):\n",
    "    for j in range(10):\n",
    "        img = cv2.imread('samples/download ({}).jpeg'.format(i))\n",
    "        img = cv2.resize(img, (256, 256))\n",
    "        h, w = 60+rr(-30, 60), 60+rr(-30, 60)\n",
    "        y, x = rr(256-h), rr(256-w)\n",
    "        img[y:y+h, x:x+w] = np.array([0, 255, 0], dtype=np.float32)\n",
    "        cv2.imwrite('samples_crop/sample_{}_{}.bmp'.format(had+i, j), img)"
   ]
  },
  {
   "cell_type": "code",
   "execution_count": null,
   "metadata": {},
   "outputs": [],
   "source": []
  }
 ],
 "metadata": {
  "kernelspec": {
   "display_name": "Python 3",
   "language": "python",
   "name": "python3"
  },
  "language_info": {
   "codemirror_mode": {
    "name": "ipython",
    "version": 3
   },
   "file_extension": ".py",
   "mimetype": "text/x-python",
   "name": "python",
   "nbconvert_exporter": "python",
   "pygments_lexer": "ipython3",
   "version": "3.6.4"
  }
 },
 "nbformat": 4,
 "nbformat_minor": 2
}
